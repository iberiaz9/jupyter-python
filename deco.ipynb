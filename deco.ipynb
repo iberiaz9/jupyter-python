{
 "cells": [
  {
   "cell_type": "code",
   "execution_count": 3,
   "metadata": {},
   "outputs": [
    {
     "name": "stdout",
     "output_type": "stream",
     "text": [
      "Mr. JA: I hope you like my code ...\n",
      "\n",
      "Volume: 113.09733552923254\n"
     ]
    }
   ],
   "source": [
    "import math\n",
    "from dprof import dearProf\n",
    "\n",
    "@dearProf()\n",
    "def print_volume(r):\n",
    "    volume=(4/3) * math.pi * r**3\n",
    "    print(f\"Volume: {volume}\")\n",
    "\n",
    "print_volume(3)"
   ]
  },
  {
   "cell_type": "code",
   "execution_count": 4,
   "metadata": {},
   "outputs": [
    {
     "name": "stdout",
     "output_type": "stream",
     "text": [
      "Mr. JA: I hope you like my code ...\n",
      "\n"
     ]
    }
   ],
   "source": [
    "@dearProf()\n",
    "def yourFunc():\n",
    "    pass\n",
    "    #TODO\n",
    "\n",
    "yourFunc()"
   ]
  }
 ],
 "metadata": {
  "kernelspec": {
   "display_name": "Python 3",
   "language": "python",
   "name": "python3"
  },
  "language_info": {
   "codemirror_mode": {
    "name": "ipython",
    "version": 3
   },
   "file_extension": ".py",
   "mimetype": "text/x-python",
   "name": "python",
   "nbconvert_exporter": "python",
   "pygments_lexer": "ipython3",
   "version": "3.7.7"
  }
 },
 "nbformat": 4,
 "nbformat_minor": 4
}
