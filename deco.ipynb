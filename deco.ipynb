{
 "cells": [
  {
   "cell_type": "code",
   "execution_count": 1,
   "metadata": {},
   "outputs": [
    {
     "name": "stdout",
     "output_type": "stream",
     "text": [
      "Sorry prof, but the cat erased half of my journal!\n",
      "\n",
      "Volume: 113.09733552923254\n"
     ]
    }
   ],
   "source": [
    "import math\n",
    "from dprof import dearProfx\n",
    "\n",
    "@dearProfx()\n",
    "def print_volume(r):\n",
    "    volume=(4/3) * math.pi * r**3\n",
    "    print(f\"Volume: {volume}\")\n",
    "\n",
    "print_volume(3)"
   ]
  },
  {
   "cell_type": "code",
   "execution_count": 2,
   "metadata": {},
   "outputs": [
    {
     "name": "stdout",
     "output_type": "stream",
     "text": [
      "Hello Mr. JA, I hope you like my code ...\n",
      "\n",
      "What shall I do with this 2\n"
     ]
    }
   ],
   "source": [
    "from dprof import dearProf\n",
    "\n",
    "@dearProf\n",
    "def yourFunc(z):\n",
    "    #TODO\n",
    "    print('What shall I do with this', z)\n",
    "    \n",
    "yourFunc(2)"
   ]
  }
 ],
 "metadata": {
  "kernelspec": {
   "display_name": "Python 3",
   "language": "python",
   "name": "python3"
  },
  "language_info": {
   "codemirror_mode": {
    "name": "ipython",
    "version": 3
   },
   "file_extension": ".py",
   "mimetype": "text/x-python",
   "name": "python",
   "nbconvert_exporter": "python",
   "pygments_lexer": "ipython3",
   "version": "3.7.7"
  }
 },
 "nbformat": 4,
 "nbformat_minor": 4
}
