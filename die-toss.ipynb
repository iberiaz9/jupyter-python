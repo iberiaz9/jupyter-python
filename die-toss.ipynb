{
 "cells": [
  {
   "cell_type": "code",
   "execution_count": 11,
   "id": "4947c707",
   "metadata": {},
   "outputs": [
    {
     "name": "stdout",
     "output_type": "stream",
     "text": [
      "First #: \n",
      "2nd #: \n",
      "Human wins, after 14 throws.\n"
     ]
    }
   ],
   "source": [
    "import random, itertools\n",
    "\n",
    "a, b = int(input(\"First #: \") or \"3\"), int(input(\"2nd #: \") or \"4\")\n",
    "\n",
    "c = itertools.count(1)\n",
    "\n",
    "i = iter(lambda:(random.randint(1, 7), random.randint(1, 7)), (6, 6))\n",
    "\n",
    "while True:\n",
    "    try:\n",
    "        t = next(i)\n",
    "        if (a, b) == t or (b, a) == t:\n",
    "            print(f\"Human wins, after {next(c)} throws.\")\n",
    "            break\n",
    "        next(c)\n",
    "    except:\n",
    "        print(f\"Double 6! Computer wins, after {next(c)} throws.\")\n",
    "        break"
   ]
  }
 ],
 "metadata": {
  "kernelspec": {
   "display_name": "Python 3",
   "language": "python",
   "name": "python3"
  },
  "language_info": {
   "codemirror_mode": {
    "name": "ipython",
    "version": 3
   },
   "file_extension": ".py",
   "mimetype": "text/x-python",
   "name": "python",
   "nbconvert_exporter": "python",
   "pygments_lexer": "ipython3",
   "version": "3.7.7"
  }
 },
 "nbformat": 4,
 "nbformat_minor": 5
}
