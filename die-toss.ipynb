{
 "cells": [
  {
   "cell_type": "code",
   "execution_count": null,
   "id": "4947c707",
   "metadata": {},
   "outputs": [],
   "source": [
    "a, b = int(input(\"First #: \")), int(input(\"2nd #: \"))\n",
    "\n",
    "import random, itertools\n",
    "c = itertools.count(1)\n",
    "\n",
    "i = iter(lambda:(random.randint(1, 7), random.randint(1, 7)), (6, 6))\n",
    "\n",
    "while True:\n",
    "    try:\n",
    "        t = next(i)\n",
    "        if (a, b) == t or (b, a) == t:\n",
    "            print(\"I win!\")\n",
    "            break\n",
    "        next(c)\n",
    "    except:\n",
    "        print(f\"Double 6! You win, after {next(c)} throws.\")\n",
    "        break"
   ]
  }
 ],
 "metadata": {
  "kernelspec": {
   "display_name": "Python 3",
   "language": "python",
   "name": "python3"
  },
  "language_info": {
   "codemirror_mode": {
    "name": "ipython",
    "version": 3
   },
   "file_extension": ".py",
   "mimetype": "text/x-python",
   "name": "python",
   "nbconvert_exporter": "python",
   "pygments_lexer": "ipython3",
   "version": "3.7.7"
  }
 },
 "nbformat": 4,
 "nbformat_minor": 5
}
