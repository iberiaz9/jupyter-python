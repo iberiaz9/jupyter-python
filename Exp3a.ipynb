{
 "cells": [
  {
   "cell_type": "code",
   "execution_count": null,
   "metadata": {},
   "outputs": [],
   "source": [
    "import sys\n",
    "\n",
    "print(sys.maxsize)\n",
    "print(hex(sys.maxsize))\n",
    "\n",
    "number_of_bytes = 8\n",
    "\n",
    "(sys.maxsize).to_bytes(number_of_bytes, 'big')"
   ]
  },
  {
   "cell_type": "markdown",
   "metadata": {},
   "source": [
    "What is the smallest value for number_of_bytes to avoid the error?\n",
    "\n",
    "And, what does the answer tell you about your computer system?"
   ]
  },
  {
   "cell_type": "code",
   "execution_count": null,
   "metadata": {},
   "outputs": [],
   "source": [
    "%%timeit -n3 -r2 -c\n",
    "def CalcDuration(fastpace, miles1, slowpace, miles2):\n",
    "    #time in hh:mm:ss.\n",
    "    [fhr, fmin, fsec] = fastpace.split(\":\", -1) #splits string into hours minutes and seconds\n",
    "    [shr, smin,ssec] = slowpace.split(\":\", -1)\n",
    "    [fhr, fmin, fsec] = [int(fhr),int(fmin), int(fsec)] \n",
    "    [shr, smin,ssec] = [int(shr), int(smin), int(ssec)]\n",
    "    tot_sec = miles1*fsec + miles2*ssec #totals hrs, minutes & seconds\n",
    "    tot_min = miles1*fmin + miles2*smin + tot_sec//60\n",
    "    tot_hr = miles1*fhr + miles2*shr + tot_min//60\n",
    "    return [tot_hr, tot_min%60, tot_sec%60] #returns (h, m, s) list of integers\n",
    "\n",
    "\n",
    "def CalcEndofRun(starttime, dur):\n",
    "    #returns time in (d, hr, min, s, meridian) format\n",
    "    #starttime - string, hh:mm format\n",
    "    #dur - list of integers (h, m, s)\n",
    "    [dhr, dmin, dsec] = dur\n",
    "    meridian = 'AM'\n",
    "    [sthr, stmin] = starttime. split(\":\") #split time string into parts\n",
    "    [sthr, stmin] = [int(sthr), int(stmin)]\n",
    "    tot_min = stmin + dmin\n",
    "    tot_hr = sthr + dhr + tot_min//60\n",
    "    arrival = [tot_hr//24, tot_hr%12, tot_min%60, dsec]\n",
    "    if (tot_hr%24 > 12):\n",
    "        meridian = 'PM' #if it's afternoon\n",
    "    arrival.append(meridian)\n",
    "    return (arrival)\n",
    "\n",
    "\n",
    "def PrintArrival(mytime):\n",
    "    [rday, rhr, rmin, rsec, meridian] = mytime\n",
    "    print(\"You arrive \", end = \"\")\n",
    "    if (rday > 1):\n",
    "        print(rday, \"days later \", end='') #you arrive more than a day later\n",
    "    elif (rday == 1):\n",
    "        print (\"the next day \", end= '') #you arrive the same day\n",
    "    print(\"at \", \"%02d\" % rhr, \":\", \"%02d\" % rmin, \":\", \"%02d\" % rsec, meridian, \".\", sep = '')\n",
    "    return(1)\n",
    "\n",
    "\n",
    "#solved in one line\n",
    "print(\"Your run takes: \", ((2*8) + (7*3)) + (((2*15) + (3*12))//60) ,\"m \", (((2*15) + (3*12))%60), \"s. You come home from your run at: \",6+(52+38)//60, \":\", ((52+((2*8) + (7*3)) + (((2*15) + (3*12))//60))%60), \":\", \"%02d\" % ((((2*15) + (3*12))%60),), \"AM.\", sep='')\n",
    "#solution calls some functions, and is more flexible\n",
    "duration = [dhr, dmin, dsec] = CalcDuration(\"00:08:15\", 2, \"00:7:12\", 3)\n",
    "print (\"The Duration of your run is (hh:mm:ss): \",\"%02d\" % dhr,  \":\", \"%02d\" % dmin,  \":\",\"%02d\" % dsec,  sep='' )\n",
    "mytime = [rday, rhr, rmin, rsec, meridian] = CalcEndofRun(\"6:52\", duration)\n",
    "PrintArrival(mytime)"
   ]
  },
  {
   "cell_type": "code",
   "execution_count": null,
   "metadata": {
    "scrolled": true
   },
   "outputs": [],
   "source": [
    "%%timeit -n3 -r2 -c\n",
    "import time\n",
    "\n",
    "def convertToSec(hours=0,minutes=0,seconds=0):\n",
    "    return (hours*3600)+(minutes*60)+seconds\n",
    "def slowPace(mile=1):\n",
    "    return convertToSec(0,8,15)*mile\n",
    "def tempoPace(mile=1):\n",
    "    return convertToSec(0,7,12)*mile\n",
    "def timeArrivedforBfast():\n",
    "    timeStartRun = convertToSec(hours=6,minutes=52)\n",
    "    timeRunning = slowPace()+tempoPace(3)+slowPace()\n",
    "    newtime = time.strftime(\"%H:%M:%S %p\",time.gmtime(timeStartRun+timeRunning))\n",
    "    print(f\"I get home from run: {newtime}\")\n",
    "timeArrivedforBfast()"
   ]
  },
  {
   "cell_type": "code",
   "execution_count": null,
   "metadata": {},
   "outputs": [],
   "source": [
    "%%timeit -n3 -r2 -c\n",
    "from datetime import timedelta as td\n",
    "from time import strftime, gmtime\n",
    "\n",
    "t = td(hours=6, minutes=52) + 2 * td(minutes=8, seconds=15) + 3 * td(minutes=7, seconds=12)\n",
    "\n",
    "print(strftime(\"%H:%M:%S %p\", gmtime(t.seconds)))"
   ]
  }
 ],
 "metadata": {
  "kernelspec": {
   "display_name": "Python 3",
   "language": "python",
   "name": "python3"
  },
  "language_info": {
   "codemirror_mode": {
    "name": "ipython",
    "version": 3
   },
   "file_extension": ".py",
   "mimetype": "text/x-python",
   "name": "python",
   "nbconvert_exporter": "python",
   "pygments_lexer": "ipython3",
   "version": "3.7.7"
  }
 },
 "nbformat": 4,
 "nbformat_minor": 2
}
