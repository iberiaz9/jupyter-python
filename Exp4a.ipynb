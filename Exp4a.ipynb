{
 "cells": [
  {
   "cell_type": "code",
   "execution_count": null,
   "metadata": {},
   "outputs": [],
   "source": [
    "def myPrint(s):\n",
    "  print(s)\n",
    "  return #TODO\n",
    "\n",
    "'''\n",
    "Replace the above #TODO with code:\n",
    "We want to have the 3 lines below printed by calling myPrint as below:\n",
    "hi\n",
    "there!\n",
    "#ABC\n",
    "'''\n",
    "myPrint('hi')('there!')('#ABC')\n"
   ]
  }
 ],
 "metadata": {
  "interpreter": {
   "hash": "247ab06e135bb35fa78c5eff31b2a9a0050dcb5fb773c2631d2a29ac689eeccb"
  },
  "kernelspec": {
   "display_name": "Python 3",
   "language": "python",
   "name": "python3"
  },
  "language_info": {
   "codemirror_mode": {
    "name": "ipython",
    "version": 3
   },
   "file_extension": ".py",
   "mimetype": "text/x-python",
   "name": "python",
   "nbconvert_exporter": "python",
   "pygments_lexer": "ipython3",
   "version": "3.7.7"
  }
 },
 "nbformat": 4,
 "nbformat_minor": 2
}
