{
 "cells": [
  {
   "cell_type": "code",
   "execution_count": 3,
   "metadata": {},
   "outputs": [
    {
     "name": "stdout",
     "output_type": "stream",
     "text": [
      "hi\n",
      "there!\n",
      "#ABC\n"
     ]
    },
    {
     "data": {
      "text/plain": [
       "<function __main__.my_print(s)>"
      ]
     },
     "execution_count": 3,
     "metadata": {},
     "output_type": "execute_result"
    }
   ],
   "source": [
    "def my_print(s):\n",
    "    print(s)\n",
    "    return #TODO\n",
    "\n",
    "'''\n",
    "Replace the above #TODO with code:\n",
    "We want to have the 3 lines below printed by calling myPrint as below:\n",
    "hi\n",
    "there!\n",
    "#ABC\n",
    "'''\n",
    "my_print('hi')('there!')('#ABC')\n"
   ]
  }
 ],
 "metadata": {
  "interpreter": {
   "hash": "247ab06e135bb35fa78c5eff31b2a9a0050dcb5fb773c2631d2a29ac689eeccb"
  },
  "kernelspec": {
   "display_name": "Python 3",
   "language": "python",
   "name": "python3"
  },
  "language_info": {
   "codemirror_mode": {
    "name": "ipython",
    "version": 3
   },
   "file_extension": ".py",
   "mimetype": "text/x-python",
   "name": "python",
   "nbconvert_exporter": "python",
   "pygments_lexer": "ipython3",
   "version": "3.7.7"
  }
 },
 "nbformat": 4,
 "nbformat_minor": 2
}
