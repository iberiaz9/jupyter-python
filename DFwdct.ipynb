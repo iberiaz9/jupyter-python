{
 "cells": [
  {
   "cell_type": "code",
   "execution_count": 9,
   "id": "43ebc77d",
   "metadata": {},
   "outputs": [],
   "source": [
    "ns = ''''''"
   ]
  },
  {
   "cell_type": "code",
   "execution_count": 10,
   "id": "d7524f72",
   "metadata": {},
   "outputs": [
    {
     "name": "stdout",
     "output_type": "stream",
     "text": [
      "\n"
     ]
    }
   ],
   "source": [
    "from collections import defaultdict as dd\n",
    "import re\n",
    "\n",
    "# compile a regex to pick out name and word count\n",
    "co = re.compile(r\"Picture of (.+?)\\n.+?(\\d+) words\\n\", re.S)\n",
    "sl = [(n, int(p)) for n, p in co.findall(ns)]\n",
    "\n",
    "# sort by word count\n",
    "sl.sort(key=lambda e: e[1])\n",
    "\n",
    "# create a mapping from name to list of his/her word counts\n",
    "d = dd(list)\n",
    "sd = {n: d[n].append(p) or d[n] for n, p in sl}\n",
    "\n",
    "# print the entries one per line\n",
    "print(*sd.items(), sep='\\n')"
   ]
  }
 ],
 "metadata": {
  "kernelspec": {
   "display_name": "Python 3",
   "language": "python",
   "name": "python3"
  },
  "language_info": {
   "codemirror_mode": {
    "name": "ipython",
    "version": 3
   },
   "file_extension": ".py",
   "mimetype": "text/x-python",
   "name": "python",
   "nbconvert_exporter": "python",
   "pygments_lexer": "ipython3",
   "version": "3.7.7"
  }
 },
 "nbformat": 4,
 "nbformat_minor": 5
}
