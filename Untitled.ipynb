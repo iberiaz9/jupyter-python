{
 "cells": [
  {
   "cell_type": "code",
   "execution_count": 6,
   "id": "64f1b0f5",
   "metadata": {},
   "outputs": [
    {
     "data": {
      "text/plain": [
       "'black'"
      ]
     },
     "execution_count": 6,
     "metadata": {},
     "output_type": "execute_result"
    }
   ],
   "source": [
    "def getChessSquareColor(square):\n",
    "    column = square[0]\n",
    "    row = int(square[1])\n",
    "    # pre-condition: column and row are in bounds:\n",
    "    from string import ascii_lowercase\n",
    "    assert column in ascii_lowercase and (1 <= row <= 8), \"Wrong square id!\"\n",
    "    # If even/oddness of column and row match, return 'black', else 'white'\n",
    "    if ord(column) % 2 == row % 2:\n",
    "        return 'black'\n",
    "    else:\n",
    "        return 'white'\n",
    "\n",
    "getChessSquareColor('c5')"
   ]
  }
 ],
 "metadata": {
  "kernelspec": {
   "display_name": "Python 3",
   "language": "python",
   "name": "python3"
  },
  "language_info": {
   "codemirror_mode": {
    "name": "ipython",
    "version": 3
   },
   "file_extension": ".py",
   "mimetype": "text/x-python",
   "name": "python",
   "nbconvert_exporter": "python",
   "pygments_lexer": "ipython3",
   "version": "3.7.7"
  }
 },
 "nbformat": 4,
 "nbformat_minor": 5
}
