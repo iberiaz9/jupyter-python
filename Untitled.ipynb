{
 "cells": [
  {
   "cell_type": "code",
   "execution_count": null,
   "id": "64f1b0f5",
   "metadata": {},
   "outputs": [],
   "source": [
    "def getChessSquareColor(square):\n",
    "    column = square[0]\n",
    "    row = int(square[1])\n",
    "    # pre-condition: column and row are in bounds:\n",
    "    from string import ascii_lowercase\n",
    "    assert column in ascii_lowercase and (1 <= row <= 8), \"Wrong square id!\"\n",
    "    # If the even/oddness of the column and row match, return 'black':\n",
    "    if ord(column) % 2 == row % 2:\n",
    "        return 'black'\n",
    "    # If they don't match, then return 'white':\n",
    "    else:\n",
    "        return 'white'\n",
    "\n",
    "getChessSquareColor('a8')"
   ]
  }
 ],
 "metadata": {
  "kernelspec": {
   "display_name": "Python 3 (ipykernel)",
   "language": "python",
   "name": "python3"
  },
  "language_info": {
   "codemirror_mode": {
    "name": "ipython",
    "version": 3
   },
   "file_extension": ".py",
   "mimetype": "text/x-python",
   "name": "python",
   "nbconvert_exporter": "python",
   "pygments_lexer": "ipython3",
   "version": "3.10.9"
  }
 },
 "nbformat": 4,
 "nbformat_minor": 5
}
