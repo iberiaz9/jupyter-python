{
 "cells": [
  {
   "cell_type": "markdown",
   "metadata": {},
   "source": [
    "# Function Call Tracer"
   ]
  },
  {
   "cell_type": "code",
   "execution_count": 1,
   "metadata": {},
   "outputs": [
    {
     "name": "stdout",
     "output_type": "stream",
     "text": [
      "histogram 36: The string 'zzz' has duplicates.\n",
      "histogram 36: The string 'dog' has no duplicates.\n",
      "histogram 36: The string 'bookkeeper' has duplicates.\n",
      "histogram 36: The string 'subdermatoglyphic' has no duplicates.\n",
      "histogram 36: The string 'subdermatoglyphics' has duplicates.\n",
      "histogram 49: histogram 49: The string 'zzz' is missing letters: abcdefghijklmnopqrstuvwxy.\n",
      "histogram 49: histogram 49: The string 'subdermatoglyphic' is missing letters: fjknqvwxz.\n",
      "histogram 49: The string 'the quick brown fox jumps over the lazy dog' uses all the letters.\n"
     ]
    }
   ],
   "source": [
    "def decot(func):\n",
    "    from inspect import currentframe, getframeinfo\n",
    "    return lambda *args, **kwargs: print(func.__name__, getframeinfo(currentframe().f_back).lineno, end=\": \")\\\n",
    "                                    or func(*args, **kwargs)\n",
    "\n",
    "alphabet = \"abcdefghijklmnopqrstuvwxyz\"\n",
    "test_dups = [\"zzz\", \"dog\", \"bookkeeper\", \"subdermatoglyphic\", \"subdermatoglyphics\"]\n",
    "test_miss = [\"zzz\", \"subdermatoglyphic\", \"the quick brown fox jumps over the lazy dog\"]\n",
    "\n",
    "@decot\n",
    "def histogram(s):\n",
    "    \"\"\"\n",
    "        This function will return a dictionary of the given string and it will count\n",
    "        the amount of each letter in the string.\n",
    "    :param s: str\n",
    "    :return: dictionary\n",
    "    \"\"\"\n",
    "    d = dict()\n",
    "    for c in s:\n",
    "        if c not in d:\n",
    "            d[c] = 1\n",
    "        else:\n",
    "            d[c] += 1\n",
    "    return d\n",
    "\n",
    "\n",
    "def has_duplicates(s):\n",
    "    \"\"\"\n",
    "        This function will check if the string has any repeated characters.\n",
    "        If it has duplicates, it will return True.\n",
    "        Otherwise, it will return False.\n",
    "\n",
    "    :param s: str\n",
    "    :return: boolean\n",
    "    \"\"\"\n",
    "    duplicates = histogram(s)\n",
    "    for v in duplicates.values():\n",
    "        if v > 1:\n",
    "            return True\n",
    "    return False\n",
    "\n",
    "\n",
    "def missing_letters(s):\n",
    "    \"\"\"\n",
    "        This function will return the missing letters in a string.\n",
    "    :param s: str\n",
    "    :return: str\n",
    "    \"\"\"\n",
    "    count_letters = histogram(alphabet)\n",
    "    # Initialize the dictionary values to 0.\n",
    "    # We don't need to do this but it can prevent semantic errors.\n",
    "    for key, value in count_letters.items():\n",
    "        count_letters[key] = 0\n",
    "\n",
    "    # I will check if every letter is in the string and count them.\n",
    "    for letter in s:\n",
    "        if letter in count_letters:\n",
    "            count_letters[letter] += 1\n",
    "\n",
    "    unused_letters = \"\"\n",
    "    # If the count value is zero, then it means that the letter is missing.\n",
    "    for key, value in count_letters.items():\n",
    "        if value == 0:\n",
    "            # I add the missing letter.\n",
    "            unused_letters += key\n",
    "    return unused_letters\n",
    "\n",
    "\n",
    "# This loop will check for duplicates in all the elements of the test_dups list.\n",
    "for element in test_dups:\n",
    "    if has_duplicates(element):\n",
    "        print(f\"The string '{element}' has duplicates.\")\n",
    "    else:\n",
    "        print(f\"The string '{element}' has no duplicates.\")\n",
    "\n",
    "# This loop will check for missing letters in all the elements of the test_miss list.\n",
    "for element in test_miss:\n",
    "    if missing_letters(element) != \"\":\n",
    "        print(f\"The string '{element}' is missing letters: {missing_letters(element)}.\")\n",
    "    else:\n",
    "        print(f\"The string '{element}' uses all the letters.\")"
   ]
  },
  {
   "cell_type": "markdown",
   "metadata": {},
   "source": [
    "Why do we see histogram listed twice on the 2nd and 3rd lines from the bottom?"
   ]
  }
 ],
 "metadata": {
  "kernelspec": {
   "display_name": "Python 3",
   "language": "python",
   "name": "python3"
  },
  "language_info": {
   "codemirror_mode": {
    "name": "ipython",
    "version": 3
   },
   "file_extension": ".py",
   "mimetype": "text/x-python",
   "name": "python",
   "nbconvert_exporter": "python",
   "pygments_lexer": "ipython3",
   "version": "3.7.7"
  }
 },
 "nbformat": 4,
 "nbformat_minor": 4
}
